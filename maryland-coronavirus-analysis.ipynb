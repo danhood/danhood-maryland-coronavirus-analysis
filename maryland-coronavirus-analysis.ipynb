{
 "cells": [
  {
   "cell_type": "markdown",
   "metadata": {},
   "source": [
    "# Dependencies\n",
    "\n",
    "Install dependencies with the following...\n",
    "\n",
    "    # pip or pip3 depending on setup\n",
    "    pip3 install plotly statsmodels requests pandas"
   ]
  },
  {
   "cell_type": "markdown",
   "metadata": {},
   "source": [
    "# Acquire Data\n",
    "\n",
    "Pulls data from the URL used by the dashboard on the [coronavirus.maryland.gov](https://coronavirus.maryland.gov/) website.  Should dump an HTTP status (looking for a 200) and last date present in data."
   ]
  },
  {
   "cell_type": "code",
   "execution_count": null,
   "metadata": {},
   "outputs": [],
   "source": [
    "import requests\n",
    "import pandas\n",
    "import json\n",
    "import plotly.express as px\n",
    "import plotly.graph_objects as go\n",
    "\n",
    "pandas.options.display.max_rows = None\n",
    "\n",
    "params = {\n",
    "    \"f\": \"json\",\n",
    "    \"where\": \"1=1\",\n",
    "    \"returnGeometry\": \"false\",\n",
    "    \"spatialRel\": \"esriSpatialRelIntersects\",\n",
    "    \"outFields\": \"*\",\n",
    "    \"orderByFields\": \"ReportDate asc\",\n",
    "    \"resultOffset\": \"0\",\n",
    "    \"resultRecordCount\": \"32000\",\n",
    "    \"resultType\": \"standard\",\n",
    "    \"cacheHint\": \"true\"\n",
    "}\n",
    "\n",
    "URL = 'https://services.arcgis.com/njFNhDsUCentVYJW/arcgis/rest/services/MASTER_CaseTracker_3/FeatureServer/0/query'\n",
    "            \n",
    "response = requests.request(\"GET\", URL, params=params)\n",
    "\n",
    "# 200 status means we're good to go\n",
    "print(\"HTTP Status: {}\".format(response.status_code))\n",
    "\n",
    "# Dump the last date\n",
    "print(\"Last Data: {}\".format(pandas.to_datetime(response.json()['features'][-1]['attributes']['ReportDate'], unit='ms')))"
   ]
  },
  {
   "cell_type": "markdown",
   "metadata": {},
   "source": [
    "# Top-Level Keys\n",
    "\n",
    "Notable keys/values...\n",
    "  * `fields` - semi-definition of each value (maybe makes sense in ESRI land?)\n",
    "  * `features` - this is where the real daily data lies"
   ]
  },
  {
   "cell_type": "code",
   "execution_count": null,
   "metadata": {},
   "outputs": [],
   "source": [
    "payload = response.json()\n",
    "\n",
    "# pandas only used for easy display\n",
    "display(pandas.DataFrame(payload.keys()))"
   ]
  },
  {
   "cell_type": "markdown",
   "metadata": {},
   "source": [
    "# Keys in \"Actual Data\"\n",
    "\n",
    "Once flattened, you can see what data is avaialble for each day.  Note that not all data is present for all days (e.g. shifts in binning of reporting over time will have gaps)."
   ]
  },
  {
   "cell_type": "code",
   "execution_count": null,
   "metadata": {
    "scrolled": false
   },
   "outputs": [],
   "source": [
    "# flatten a bit, as each item is rooted under an uncessary attributes key \n",
    "daily_numbers = [element['attributes'] for element in payload['features']]\n",
    "\n",
    "# pandas only used for easy display\n",
    "display(pandas.DataFrame(daily_numbers[0].keys()))"
   ]
  },
  {
   "cell_type": "markdown",
   "metadata": {},
   "source": [
    "# DataFrame Time\n",
    "\n",
    "Pull into Pandas data frame..."
   ]
  },
  {
   "cell_type": "code",
   "execution_count": null,
   "metadata": {},
   "outputs": [],
   "source": [
    "# slurp into dataframe\n",
    "df = pandas.read_json(json.dumps(daily_numbers), orient='records')"
   ]
  },
  {
   "cell_type": "markdown",
   "metadata": {},
   "source": [
    "# Bed Usage Over Time\n",
    "\n",
    "This regenerates the \"ICU and Acute Hospital Beds for COVID-19, Currently in Use\" chart from the MD page in Plotly."
   ]
  },
  {
   "cell_type": "code",
   "execution_count": null,
   "metadata": {
    "scrolled": false
   },
   "outputs": [],
   "source": [
    "filtered = df.filter(items=['ReportDate', 'bedsAcute', 'bedsICU', 'bedsTotal'])\n",
    "filtered['ReportDate'] = pandas.to_datetime(df['ReportDate'], unit='ms')\n",
    "\n",
    "fig = go.Figure()\n",
    "for x in ['bedsAcute', 'bedsICU', 'bedsTotal']:\n",
    "    fig.add_trace(go.Scatter(x=filtered['ReportDate'], y=df[x], mode='lines+markers', name=x))\n",
    "fig.show()"
   ]
  },
  {
   "cell_type": "markdown",
   "metadata": {},
   "source": [
    "# Bed Usage Over Time (with Trendline)\n",
    "\n",
    "Same as above, but with a [LOWESS](https://en.wikipedia.org/wiki/Local_regression) trendline (and a slightly modified x-axis)."
   ]
  },
  {
   "cell_type": "code",
   "execution_count": null,
   "metadata": {},
   "outputs": [],
   "source": [
    "filtered = df.filter(items=['ReportDate', 'bedsAcute', 'bedsICU', 'bedsTotal'])\n",
    "\n",
    "# for whatever reason lowess doesn't like datetimes?\n",
    "# change to days from last data (last day = 0, day before = -1, 2 days before = -2, ...)\n",
    "\n",
    "# filtered['ReportDate'] = pandas.to_datetime(df['ReportDate'], unit='ms')\n",
    "filtered['ReportDate'] = [i - len(filtered['ReportDate']) + 1 for i in range(len(filtered['ReportDate']))]\n",
    "\n",
    "df_melt = filtered.melt(id_vars='ReportDate', value_vars=['bedsAcute', 'bedsICU', 'bedsTotal'])\n",
    "fig = px.scatter(df_melt, x='ReportDate' , y='value', color='variable', trendline=\"lowess\")\n",
    "fig.show()"
   ]
  },
  {
   "cell_type": "markdown",
   "metadata": {},
   "source": [
    "# Hospitalized Data\n",
    "\n",
    "Not always clear how/if this data correspondes to `bedsAcute`, `bedsICU`, and `bedsTotal`."
   ]
  },
  {
   "cell_type": "code",
   "execution_count": null,
   "metadata": {
    "scrolled": false
   },
   "outputs": [],
   "source": [
    "# tabluar dump\n",
    "filtered = df.filter(items=['ReportDate', 'total_hospitalized', 'hospitalizedDelta'])\n",
    "filtered['ReportDate'] = pandas.to_datetime(df['ReportDate'], unit='ms')\n",
    "display(filtered)"
   ]
  },
  {
   "cell_type": "code",
   "execution_count": null,
   "metadata": {},
   "outputs": [],
   "source": [
    "# line chart\n",
    "fig = go.Figure()\n",
    "for x in ['hospitalizedDelta']:\n",
    "    fig.add_trace(go.Scatter(x=filtered['ReportDate'], y=filtered[x], mode='lines+markers', name=x))\n",
    "fig.show()"
   ]
  },
  {
   "cell_type": "markdown",
   "metadata": {},
   "source": [
    "# Export to CSV\n",
    "\n",
    "For all your excel needs ; )"
   ]
  },
  {
   "cell_type": "code",
   "execution_count": null,
   "metadata": {},
   "outputs": [],
   "source": [
    "# Dump raw data in less verbose CSV\n",
    "df.to_csv('md-data.csv')"
   ]
  }
 ],
 "metadata": {
  "kernelspec": {
   "display_name": "Python 3",
   "language": "python",
   "name": "python3"
  },
  "language_info": {
   "codemirror_mode": {
    "name": "ipython",
    "version": 3
   },
   "file_extension": ".py",
   "mimetype": "text/x-python",
   "name": "python",
   "nbconvert_exporter": "python",
   "pygments_lexer": "ipython3",
   "version": "3.7.4"
  }
 },
 "nbformat": 4,
 "nbformat_minor": 2
}
