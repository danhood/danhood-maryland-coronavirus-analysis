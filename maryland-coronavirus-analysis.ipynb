{
 "cells": [
  {
   "cell_type": "markdown",
   "metadata": {},
   "source": [
    "# Dependencies\n",
    "\n",
    "I believe `requests` and `pandas` are likely pre-installed, though `plotly` and `statsmodels` may need to be added...\n",
    "\n",
    "    # pip or pip3 depending on setup\n",
    "    pip3 install plotly statsmodels"
   ]
  },
  {
   "cell_type": "markdown",
   "metadata": {},
   "source": [
    "# Acquire Data\n",
    "\n",
    "Pull data from the URL referenced on the [coronavirus.maryland.gov](https://coronavirus.maryland.gov/) site.  Looking for a 200 HTTP Status code for successful pull."
   ]
  },
  {
   "cell_type": "code",
   "execution_count": null,
   "metadata": {},
   "outputs": [],
   "source": [
    "import requests\n",
    "import pandas\n",
    "import json\n",
    "import plotly.express as px\n",
    "import plotly.graph_objects as go\n",
    "\n",
    "pandas.options.display.max_rows = None\n",
    "\n",
    "params = {\n",
    "    \"f\": \"json\",\n",
    "    \"where\": \"1=1\",\n",
    "    \"returnGeometry\": \"false\",\n",
    "    \"spatialRel\": \"esriSpatialRelIntersects\",\n",
    "    \"outFields\": \"*\",\n",
    "    \"orderByFields\": \"ReportDate asc\",\n",
    "    \"resultOffset\": \"0\",\n",
    "    \"resultRecordCount\": \"32000\",\n",
    "    \"resultType\": \"standard\",\n",
    "    \"cacheHint\": \"true\"\n",
    "}\n",
    "\n",
    "URL = 'https://services.arcgis.com/njFNhDsUCentVYJW/arcgis/rest/services/MASTER_CaseTracker_3/FeatureServer/0/query'\n",
    "            \n",
    "response = requests.request(\"GET\", URL, params=params)\n",
    "\n",
    "# 200 status means we're good to go\n",
    "print(\"HTTP Status: {}\".format(response.status_code))"
   ]
  },
  {
   "cell_type": "markdown",
   "metadata": {},
   "source": [
    "# Keys\n",
    "\n",
    "Notable keys/values...\n",
    "  * `fields` - semi-definition of each value (maybe makes sense in ESRI land?)\n",
    "  * `features` - this is where the real daily data lies"
   ]
  },
  {
   "cell_type": "code",
   "execution_count": null,
   "metadata": {},
   "outputs": [],
   "source": [
    "payload = response.json()\n",
    "\n",
    "# pandas only used for easy display\n",
    "display(pandas.DataFrame(payload.keys()))"
   ]
  },
  {
   "cell_type": "markdown",
   "metadata": {},
   "source": [
    "# Actual Data\n",
    "\n",
    "Once flattened, you can see what data is avaialble for each day..."
   ]
  },
  {
   "cell_type": "code",
   "execution_count": null,
   "metadata": {
    "scrolled": false
   },
   "outputs": [],
   "source": [
    "# flatten a bit, as each item is rooted under an uncessary attributes key \n",
    "daily_numbers = [element['attributes'] for element in payload['features']]\n",
    "\n",
    "# pandas only used for easy display\n",
    "display(pandas.DataFrame(daily_numbers[0].keys()))"
   ]
  },
  {
   "cell_type": "code",
   "execution_count": null,
   "metadata": {},
   "outputs": [],
   "source": [
    "# slurp into dataframe\n",
    "df = pandas.read_json(json.dumps(daily_numbers), orient='records')"
   ]
  },
  {
   "cell_type": "code",
   "execution_count": null,
   "metadata": {},
   "outputs": [],
   "source": [
    "# df_melt = filtered.melt(id_vars='ReportDate', value_vars=['bedsAcute', 'bedsICU', 'bedsTotal'])\n",
    "# fig = px.line(df_melt, x='ReportDate' , y='value', color='variable')\n",
    "# fig.show()"
   ]
  },
  {
   "cell_type": "code",
   "execution_count": null,
   "metadata": {},
   "outputs": [],
   "source": [
    "filtered = df.filter(items=['ReportDate', 'bedsAcute', 'bedsICU', 'bedsTotal'])\n",
    "filtered['ReportDate'] = pandas.to_datetime(df['ReportDate'], unit='ms')\n",
    "\n",
    "fig = go.Figure()\n",
    "for x in ['bedsAcute', 'bedsICU', 'bedsTotal']:\n",
    "    fig.add_trace(go.Scatter(x=filtered['ReportDate'], y=df[x], mode='lines+markers', name=x))\n",
    "fig.show()"
   ]
  },
  {
   "cell_type": "code",
   "execution_count": null,
   "metadata": {},
   "outputs": [],
   "source": [
    "filtered = df.filter(items=['ReportDate', 'bedsAcute', 'bedsICU', 'bedsTotal'])\n",
    "# for whatever reason lowess doesn't like datetimes?\n",
    "# filtered['ReportDate'] = pandas.to_datetime(df['ReportDate'], unit='ms')\n",
    "\n",
    "df_melt = filtered.melt(id_vars='ReportDate', value_vars=['bedsAcute', 'bedsICU', 'bedsTotal'])\n",
    "fig = px.scatter(df_melt, x='ReportDate' , y='value', color='variable', trendline=\"lowess\")\n",
    "fig.show()"
   ]
  },
  {
   "cell_type": "code",
   "execution_count": null,
   "metadata": {},
   "outputs": [],
   "source": [
    "filtered = df.filter(items=['ReportDate', 'total_hospitalized', 'hospitalizedDelta'])\n",
    "filtered['ReportDate'] = pandas.to_datetime(df['ReportDate'], unit='ms')\n",
    "display(filtered)"
   ]
  },
  {
   "cell_type": "code",
   "execution_count": null,
   "metadata": {},
   "outputs": [],
   "source": [
    "fig = go.Figure()\n",
    "for x in ['hospitalizedDelta']:\n",
    "    fig.add_trace(go.Scatter(x=filtered['ReportDate'], y=filtered[x], mode='lines+markers', name=x))\n",
    "fig.show()"
   ]
  }
 ],
 "metadata": {
  "kernelspec": {
   "display_name": "Python 3",
   "language": "python",
   "name": "python3"
  },
  "language_info": {
   "codemirror_mode": {
    "name": "ipython",
    "version": 3
   },
   "file_extension": ".py",
   "mimetype": "text/x-python",
   "name": "python",
   "nbconvert_exporter": "python",
   "pygments_lexer": "ipython3",
   "version": "3.7.4"
  }
 },
 "nbformat": 4,
 "nbformat_minor": 2
}
